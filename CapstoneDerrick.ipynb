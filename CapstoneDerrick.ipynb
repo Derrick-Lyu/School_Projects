{
 "cells": [
  {
   "cell_type": "markdown",
   "id": "9e127a99",
   "metadata": {},
   "source": [
    "# Capstone Project(DS-UA 112)\n",
    "## author: Derrick Lyu"
   ]
  },
  {
   "cell_type": "markdown",
   "id": "35a57f6c",
   "metadata": {},
   "source": [
    "## Preprocessing of data\n",
    "1. Dimension Reduction:\n",
    "    In the question that require preprocessing data with dimention reduction. I first acquired data that is necessary for the question, then z-scored it to normalize the data in each column to avoid variance cause by the difference of unit of measurement used in each column (although the unit used for each column are same across the dataset). Then, doing the PCA and making the scree plot while selecting Kaiser criterion allows me to discern the major compounded component that could be used.\n",
    "\n",
    "2. Data Cleaning\n",
    "    Since many people chose not to respond some question or did not watch some movies, there are a lot of \"nan\" value in the data set. Thus, it is necessary to do the data cleaning before doing the data analysis. In some question, especially those that require comparison between rating of two movies, I stacked two groups of data together and delete all the rows that contains \"nan\" value to avoid some confounding variable, like people chose to watch a movie a movie while not watching the other because it does not have their favorite actor. Also, when it comes to finding the correlation across many movies, I chose to fill all nan value by median rating of the movie since if I chose to delete all rows that have nan value, there will not enough data for analysis\n",
    "    \n",
    "3. Data Transformation\n",
    "    As I mentioned in the dimension reduction, I used z-score to normalize the data and in come cases using PCA to combine data and rotate them into a new coordinate."
   ]
  },
  {
   "cell_type": "code",
   "execution_count": 1,
   "id": "af91c3a9",
   "metadata": {},
   "outputs": [],
   "source": [
    "import numpy as np\n",
    "import pandas as pd\n",
    "import matplotlib.pyplot as plt\n",
    "from scipy import stats\n",
    "from sklearn.decomposition import PCA\n",
    "from sklearn.cluster import KMeans\n",
    "from sklearn.metrics import silhouette_samples\n",
    "from sklearn.cluster import DBSCAN\n",
    "from sklearn.linear_model import LogisticRegression\n",
    "from scipy.special import expit # this is the logistic sigmoid function\n",
    "from sklearn.ensemble import RandomForestClassifier\n",
    "from sklearn.metrics import accuracy_score\n",
    "from sklearn.model_selection import train_test_split\n",
    "from sklearn.linear_model import LinearRegression\n",
    "from sklearn import metrics\n",
    "from sklearn.metrics import mean_squared_error\n",
    "from sklearn.ensemble import RandomForestRegressor"
   ]
  },
  {
   "cell_type": "code",
   "execution_count": 2,
   "id": "992988e8",
   "metadata": {},
   "outputs": [
    {
     "data": {
      "text/html": [
       "<div>\n",
       "<style scoped>\n",
       "    .dataframe tbody tr th:only-of-type {\n",
       "        vertical-align: middle;\n",
       "    }\n",
       "\n",
       "    .dataframe tbody tr th {\n",
       "        vertical-align: top;\n",
       "    }\n",
       "\n",
       "    .dataframe thead th {\n",
       "        text-align: right;\n",
       "    }\n",
       "</style>\n",
       "<table border=\"1\" class=\"dataframe\">\n",
       "  <thead>\n",
       "    <tr style=\"text-align: right;\">\n",
       "      <th></th>\n",
       "      <th>The Life of David Gale (2003)</th>\n",
       "      <th>Wing Commander (1999)</th>\n",
       "      <th>Django Unchained (2012)</th>\n",
       "      <th>Alien (1979)</th>\n",
       "      <th>Indiana Jones and the Last Crusade (1989)</th>\n",
       "      <th>Snatch (2000)</th>\n",
       "      <th>Rambo: First Blood Part II (1985)</th>\n",
       "      <th>Fargo (1996)</th>\n",
       "      <th>Let the Right One In (2008)</th>\n",
       "      <th>Black Swan (2010)</th>\n",
       "      <th>...</th>\n",
       "      <th>When watching a movie I cheer or shout or talk or curse at the screen</th>\n",
       "      <th>When watching a movie I feel like the things on the screen are happening to me</th>\n",
       "      <th>As a movie unfolds I start to have problems keeping track of events that happened earlier</th>\n",
       "      <th>The emotions on the screen \"rub off\" on me - for instance if something sad is happening I get sad or if something frightening is happening I get scared</th>\n",
       "      <th>When watching a movie I get completely immersed in the alternative reality of the film</th>\n",
       "      <th>Movies change my position on social economic or political issues</th>\n",
       "      <th>When watching movies things get so intense that I have to stop watching</th>\n",
       "      <th>Gender identity (1 = female; 2 = male; 3 = self-described)</th>\n",
       "      <th>Are you an only child? (1: Yes; 0: No; -1: Did not respond)</th>\n",
       "      <th>Movies are best enjoyed alone (1: Yes; 0: No; -1: Did not respond)</th>\n",
       "    </tr>\n",
       "  </thead>\n",
       "  <tbody>\n",
       "    <tr>\n",
       "      <th>count</th>\n",
       "      <td>76.000000</td>\n",
       "      <td>71.000000</td>\n",
       "      <td>453.000000</td>\n",
       "      <td>289.000000</td>\n",
       "      <td>463.000000</td>\n",
       "      <td>128.000000</td>\n",
       "      <td>182.000000</td>\n",
       "      <td>254.000000</td>\n",
       "      <td>137.000000</td>\n",
       "      <td>588.000000</td>\n",
       "      <td>...</td>\n",
       "      <td>1077.000000</td>\n",
       "      <td>1073.000000</td>\n",
       "      <td>1078.000000</td>\n",
       "      <td>1075.000000</td>\n",
       "      <td>1074.000000</td>\n",
       "      <td>1077.000000</td>\n",
       "      <td>1079.000000</td>\n",
       "      <td>1073.000000</td>\n",
       "      <td>1097.000000</td>\n",
       "      <td>1097.000000</td>\n",
       "    </tr>\n",
       "    <tr>\n",
       "      <th>mean</th>\n",
       "      <td>2.151316</td>\n",
       "      <td>2.021127</td>\n",
       "      <td>3.153422</td>\n",
       "      <td>2.707612</td>\n",
       "      <td>2.778618</td>\n",
       "      <td>2.597656</td>\n",
       "      <td>2.365385</td>\n",
       "      <td>2.899606</td>\n",
       "      <td>2.496350</td>\n",
       "      <td>2.911565</td>\n",
       "      <td>...</td>\n",
       "      <td>2.763231</td>\n",
       "      <td>3.100652</td>\n",
       "      <td>2.234694</td>\n",
       "      <td>4.446512</td>\n",
       "      <td>4.259777</td>\n",
       "      <td>3.319406</td>\n",
       "      <td>2.159407</td>\n",
       "      <td>1.253495</td>\n",
       "      <td>0.137648</td>\n",
       "      <td>0.533273</td>\n",
       "    </tr>\n",
       "    <tr>\n",
       "      <th>std</th>\n",
       "      <td>1.166247</td>\n",
       "      <td>1.141542</td>\n",
       "      <td>0.916403</td>\n",
       "      <td>1.153261</td>\n",
       "      <td>0.906993</td>\n",
       "      <td>1.019608</td>\n",
       "      <td>1.028468</td>\n",
       "      <td>1.062643</td>\n",
       "      <td>1.020914</td>\n",
       "      <td>0.969203</td>\n",
       "      <td>...</td>\n",
       "      <td>1.499884</td>\n",
       "      <td>1.462571</td>\n",
       "      <td>1.242105</td>\n",
       "      <td>1.254294</td>\n",
       "      <td>1.248493</td>\n",
       "      <td>1.246603</td>\n",
       "      <td>1.275058</td>\n",
       "      <td>0.447890</td>\n",
       "      <td>0.407743</td>\n",
       "      <td>0.542900</td>\n",
       "    </tr>\n",
       "    <tr>\n",
       "      <th>min</th>\n",
       "      <td>0.000000</td>\n",
       "      <td>0.000000</td>\n",
       "      <td>0.000000</td>\n",
       "      <td>0.000000</td>\n",
       "      <td>0.000000</td>\n",
       "      <td>0.000000</td>\n",
       "      <td>0.000000</td>\n",
       "      <td>0.000000</td>\n",
       "      <td>0.000000</td>\n",
       "      <td>0.000000</td>\n",
       "      <td>...</td>\n",
       "      <td>1.000000</td>\n",
       "      <td>1.000000</td>\n",
       "      <td>1.000000</td>\n",
       "      <td>1.000000</td>\n",
       "      <td>1.000000</td>\n",
       "      <td>1.000000</td>\n",
       "      <td>1.000000</td>\n",
       "      <td>1.000000</td>\n",
       "      <td>-1.000000</td>\n",
       "      <td>-1.000000</td>\n",
       "    </tr>\n",
       "    <tr>\n",
       "      <th>25%</th>\n",
       "      <td>1.000000</td>\n",
       "      <td>1.000000</td>\n",
       "      <td>3.000000</td>\n",
       "      <td>2.000000</td>\n",
       "      <td>2.500000</td>\n",
       "      <td>2.000000</td>\n",
       "      <td>1.500000</td>\n",
       "      <td>2.500000</td>\n",
       "      <td>2.000000</td>\n",
       "      <td>2.500000</td>\n",
       "      <td>...</td>\n",
       "      <td>1.000000</td>\n",
       "      <td>2.000000</td>\n",
       "      <td>1.000000</td>\n",
       "      <td>4.000000</td>\n",
       "      <td>4.000000</td>\n",
       "      <td>3.000000</td>\n",
       "      <td>1.000000</td>\n",
       "      <td>1.000000</td>\n",
       "      <td>0.000000</td>\n",
       "      <td>0.000000</td>\n",
       "    </tr>\n",
       "    <tr>\n",
       "      <th>50%</th>\n",
       "      <td>2.500000</td>\n",
       "      <td>2.000000</td>\n",
       "      <td>3.500000</td>\n",
       "      <td>3.000000</td>\n",
       "      <td>3.000000</td>\n",
       "      <td>3.000000</td>\n",
       "      <td>2.500000</td>\n",
       "      <td>3.000000</td>\n",
       "      <td>2.500000</td>\n",
       "      <td>3.000000</td>\n",
       "      <td>...</td>\n",
       "      <td>3.000000</td>\n",
       "      <td>3.000000</td>\n",
       "      <td>2.000000</td>\n",
       "      <td>5.000000</td>\n",
       "      <td>4.000000</td>\n",
       "      <td>3.000000</td>\n",
       "      <td>2.000000</td>\n",
       "      <td>1.000000</td>\n",
       "      <td>0.000000</td>\n",
       "      <td>1.000000</td>\n",
       "    </tr>\n",
       "    <tr>\n",
       "      <th>75%</th>\n",
       "      <td>3.000000</td>\n",
       "      <td>3.000000</td>\n",
       "      <td>4.000000</td>\n",
       "      <td>3.500000</td>\n",
       "      <td>3.500000</td>\n",
       "      <td>3.500000</td>\n",
       "      <td>3.000000</td>\n",
       "      <td>3.875000</td>\n",
       "      <td>3.000000</td>\n",
       "      <td>3.500000</td>\n",
       "      <td>...</td>\n",
       "      <td>4.000000</td>\n",
       "      <td>4.000000</td>\n",
       "      <td>3.000000</td>\n",
       "      <td>5.000000</td>\n",
       "      <td>5.000000</td>\n",
       "      <td>4.000000</td>\n",
       "      <td>3.000000</td>\n",
       "      <td>1.000000</td>\n",
       "      <td>0.000000</td>\n",
       "      <td>1.000000</td>\n",
       "    </tr>\n",
       "    <tr>\n",
       "      <th>max</th>\n",
       "      <td>4.000000</td>\n",
       "      <td>4.000000</td>\n",
       "      <td>4.000000</td>\n",
       "      <td>4.000000</td>\n",
       "      <td>4.000000</td>\n",
       "      <td>4.000000</td>\n",
       "      <td>4.000000</td>\n",
       "      <td>4.000000</td>\n",
       "      <td>4.000000</td>\n",
       "      <td>4.000000</td>\n",
       "      <td>...</td>\n",
       "      <td>6.000000</td>\n",
       "      <td>6.000000</td>\n",
       "      <td>6.000000</td>\n",
       "      <td>6.000000</td>\n",
       "      <td>6.000000</td>\n",
       "      <td>6.000000</td>\n",
       "      <td>6.000000</td>\n",
       "      <td>3.000000</td>\n",
       "      <td>1.000000</td>\n",
       "      <td>1.000000</td>\n",
       "    </tr>\n",
       "  </tbody>\n",
       "</table>\n",
       "<p>8 rows × 477 columns</p>\n",
       "</div>"
      ],
      "text/plain": [
       "       The Life of David Gale (2003)  Wing Commander (1999)  \\\n",
       "count                      76.000000              71.000000   \n",
       "mean                        2.151316               2.021127   \n",
       "std                         1.166247               1.141542   \n",
       "min                         0.000000               0.000000   \n",
       "25%                         1.000000               1.000000   \n",
       "50%                         2.500000               2.000000   \n",
       "75%                         3.000000               3.000000   \n",
       "max                         4.000000               4.000000   \n",
       "\n",
       "       Django Unchained (2012)  Alien (1979)  \\\n",
       "count               453.000000    289.000000   \n",
       "mean                  3.153422      2.707612   \n",
       "std                   0.916403      1.153261   \n",
       "min                   0.000000      0.000000   \n",
       "25%                   3.000000      2.000000   \n",
       "50%                   3.500000      3.000000   \n",
       "75%                   4.000000      3.500000   \n",
       "max                   4.000000      4.000000   \n",
       "\n",
       "       Indiana Jones and the Last Crusade (1989)  Snatch (2000)  \\\n",
       "count                                 463.000000     128.000000   \n",
       "mean                                    2.778618       2.597656   \n",
       "std                                     0.906993       1.019608   \n",
       "min                                     0.000000       0.000000   \n",
       "25%                                     2.500000       2.000000   \n",
       "50%                                     3.000000       3.000000   \n",
       "75%                                     3.500000       3.500000   \n",
       "max                                     4.000000       4.000000   \n",
       "\n",
       "       Rambo: First Blood Part II (1985)  Fargo (1996)  \\\n",
       "count                         182.000000    254.000000   \n",
       "mean                            2.365385      2.899606   \n",
       "std                             1.028468      1.062643   \n",
       "min                             0.000000      0.000000   \n",
       "25%                             1.500000      2.500000   \n",
       "50%                             2.500000      3.000000   \n",
       "75%                             3.000000      3.875000   \n",
       "max                             4.000000      4.000000   \n",
       "\n",
       "       Let the Right One In (2008)  Black Swan (2010)  ...  \\\n",
       "count                   137.000000         588.000000  ...   \n",
       "mean                      2.496350           2.911565  ...   \n",
       "std                       1.020914           0.969203  ...   \n",
       "min                       0.000000           0.000000  ...   \n",
       "25%                       2.000000           2.500000  ...   \n",
       "50%                       2.500000           3.000000  ...   \n",
       "75%                       3.000000           3.500000  ...   \n",
       "max                       4.000000           4.000000  ...   \n",
       "\n",
       "       When watching a movie I cheer or shout or talk or curse at the screen  \\\n",
       "count                                        1077.000000                       \n",
       "mean                                            2.763231                       \n",
       "std                                             1.499884                       \n",
       "min                                             1.000000                       \n",
       "25%                                             1.000000                       \n",
       "50%                                             3.000000                       \n",
       "75%                                             4.000000                       \n",
       "max                                             6.000000                       \n",
       "\n",
       "       When watching a movie I feel like the things on the screen are happening to me  \\\n",
       "count                                        1073.000000                                \n",
       "mean                                            3.100652                                \n",
       "std                                             1.462571                                \n",
       "min                                             1.000000                                \n",
       "25%                                             2.000000                                \n",
       "50%                                             3.000000                                \n",
       "75%                                             4.000000                                \n",
       "max                                             6.000000                                \n",
       "\n",
       "       As a movie unfolds I start to have problems keeping track of events that happened earlier  \\\n",
       "count                                        1078.000000                                           \n",
       "mean                                            2.234694                                           \n",
       "std                                             1.242105                                           \n",
       "min                                             1.000000                                           \n",
       "25%                                             1.000000                                           \n",
       "50%                                             2.000000                                           \n",
       "75%                                             3.000000                                           \n",
       "max                                             6.000000                                           \n",
       "\n",
       "       The emotions on the screen \"rub off\" on me - for instance if something sad is happening I get sad or if something frightening is happening I get scared  \\\n",
       "count                                        1075.000000                                                                                                         \n",
       "mean                                            4.446512                                                                                                         \n",
       "std                                             1.254294                                                                                                         \n",
       "min                                             1.000000                                                                                                         \n",
       "25%                                             4.000000                                                                                                         \n",
       "50%                                             5.000000                                                                                                         \n",
       "75%                                             5.000000                                                                                                         \n",
       "max                                             6.000000                                                                                                         \n",
       "\n",
       "       When watching a movie I get completely immersed in the alternative reality of the film  \\\n",
       "count                                        1074.000000                                        \n",
       "mean                                            4.259777                                        \n",
       "std                                             1.248493                                        \n",
       "min                                             1.000000                                        \n",
       "25%                                             4.000000                                        \n",
       "50%                                             4.000000                                        \n",
       "75%                                             5.000000                                        \n",
       "max                                             6.000000                                        \n",
       "\n",
       "       Movies change my position on social economic or political issues  \\\n",
       "count                                        1077.000000                  \n",
       "mean                                            3.319406                  \n",
       "std                                             1.246603                  \n",
       "min                                             1.000000                  \n",
       "25%                                             3.000000                  \n",
       "50%                                             3.000000                  \n",
       "75%                                             4.000000                  \n",
       "max                                             6.000000                  \n",
       "\n",
       "       When watching movies things get so intense that I have to stop watching  \\\n",
       "count                                        1079.000000                         \n",
       "mean                                            2.159407                         \n",
       "std                                             1.275058                         \n",
       "min                                             1.000000                         \n",
       "25%                                             1.000000                         \n",
       "50%                                             2.000000                         \n",
       "75%                                             3.000000                         \n",
       "max                                             6.000000                         \n",
       "\n",
       "       Gender identity (1 = female; 2 = male; 3 = self-described)  \\\n",
       "count                                        1073.000000            \n",
       "mean                                            1.253495            \n",
       "std                                             0.447890            \n",
       "min                                             1.000000            \n",
       "25%                                             1.000000            \n",
       "50%                                             1.000000            \n",
       "75%                                             1.000000            \n",
       "max                                             3.000000            \n",
       "\n",
       "       Are you an only child? (1: Yes; 0: No; -1: Did not respond)  \\\n",
       "count                                        1097.000000             \n",
       "mean                                            0.137648             \n",
       "std                                             0.407743             \n",
       "min                                            -1.000000             \n",
       "25%                                             0.000000             \n",
       "50%                                             0.000000             \n",
       "75%                                             0.000000             \n",
       "max                                             1.000000             \n",
       "\n",
       "       Movies are best enjoyed alone (1: Yes; 0: No; -1: Did not respond)  \n",
       "count                                        1097.000000                   \n",
       "mean                                            0.533273                   \n",
       "std                                             0.542900                   \n",
       "min                                            -1.000000                   \n",
       "25%                                             0.000000                   \n",
       "50%                                             1.000000                   \n",
       "75%                                             1.000000                   \n",
       "max                                             1.000000                   \n",
       "\n",
       "[8 rows x 477 columns]"
      ]
     },
     "execution_count": 2,
     "metadata": {},
     "output_type": "execute_result"
    }
   ],
   "source": [
    "dataFrame = pd.read_csv(\"movieReplicationSet.csv\",delimiter=\",\")\n",
    "dataFrame.describe()"
   ]
  },
  {
   "cell_type": "markdown",
   "id": "b85c0809",
   "metadata": {},
   "source": [
    "## Question 1\n",
    "what is the relationship between sensation seeking and movie experience?"
   ]
  },
  {
   "cell_type": "code",
   "execution_count": 3,
   "id": "4015cc0f",
   "metadata": {},
   "outputs": [],
   "source": [
    "data = np.genfromtxt(\"movieReplicationSet.csv\", skip_header=1, \n",
    "                             delimiter=\",\",usecols=[*range(400,420),*range(464,474)])\n",
    "data = data[~np.isnan(data).any(axis=1)]\n",
    "sensation = data[:,:20]\n",
    "experience = data[:,20:30]\n",
    "cor = np.corrcoef(data,rowvar=False)"
   ]
  },
  {
   "cell_type": "code",
   "execution_count": 4,
   "id": "f21fcdbb",
   "metadata": {},
   "outputs": [
    {
     "data": {
      "image/png": "[encoded data removed]",
      "text/plain": [
       "<Figure size 432x288 with 2 Axes>"
      ]
     },
     "metadata": {
      "needs_background": "light"
     },
     "output_type": "display_data"
    }
   ],
   "source": [
    "# Then we graph the correlation\n",
    "plt.imshow(cor[20:30,:20])\n",
    "plt.xlabel(\"Sensation Seeking\")\n",
    "plt.ylabel(\"Movie Experience\")\n",
    "plt.title(\"Correlation\")\n",
    "plt.colorbar()\n",
    "plt.show()"
   ]
  },
  {
   "cell_type": "code",
   "execution_count": 5,
   "id": "3721ed05",
   "metadata": {},
   "outputs": [],
   "source": [
    "#Doing PCA\n",
    "pcaSensation = PCA().fit(stats.zscore(sensation))\n",
    "pcaExperience = PCA().fit(stats.zscore(experience))\n",
    "\n",
    "SeigVals = pcaSensation.explained_variance_\n",
    "Sloadings = pcaSensation.components_*-1\n",
    "SrotatedData = pcaSensation.fit_transform(stats.zscore(sensation))*-1\n",
    "ScovarExplained = SeigVals/sum(SeigVals)*100\n",
    "\n",
    "MeigVals = pcaExperience.explained_variance_\n",
    "Mloadings = pcaExperience.components_*-1\n",
    "MrotatedData = pcaExperience.fit_transform(stats.zscore(experience))*-1\n",
    "McovarExplained = MeigVals/sum(MeigVals)*100"
   ]
  },
  {
   "cell_type": "code",
   "execution_count": 6,
   "id": "d18d9a16",
   "metadata": {},
   "outputs": [
    {
     "data": {
      "image/png": "[encoded data removed]",
      "text/plain": [
       "<Figure size 432x288 with 1 Axes>"
      ]
     },
     "metadata": {
      "needs_background": "light"
     },
     "output_type": "display_data"
    }
   ],
   "source": [
    "# Making a scree plot\n",
    "numClasses = 20\n",
    "x = np.linspace(1, numClasses, numClasses)\n",
    "plt.bar(x, SeigVals)\n",
    "plt.plot([0, numClasses],[1,1],color='orange')\n",
    "plt.title(\"Sensation Eigen Value\")\n",
    "plt.xlabel('Principal components')\n",
    "plt.ylabel('Eigenvalues')\n",
    "plt.show()"
   ]
  },
  {
   "cell_type": "code",
   "execution_count": 7,
   "id": "a47821c4",
   "metadata": {},
   "outputs": [
    {
     "name": "stdout",
     "output_type": "stream",
     "text": [
      "Number of factors selected by Kaiser criterion: 6\n",
      "Number of factors selected by Elbow Critetion: 11\n",
      "Number of factors to account for at least 90% variance: 16\n"
     ]
    }
   ],
   "source": [
    "kaiserThreshold = 1\n",
    "threshold = 90\n",
    "eigSum = np.cumsum(ScovarExplained)\n",
    "print('Number of factors selected by Kaiser criterion:', np.count_nonzero(SeigVals > kaiserThreshold))\n",
    "print(\"Number of factors selected by Elbow Critetion: 11\")\n",
    "print('Number of factors to account for at least 90% variance:', np.count_nonzero(eigSum < threshold) + 1)"
   ]
  },
  {
   "cell_type": "code",
   "execution_count": 8,
   "id": "df2e43ed",
   "metadata": {},
   "outputs": [
    {
     "data": {
      "image/png": "[encoded data removed]",
      "text/plain": [
       "<Figure size 432x288 with 1 Axes>"
      ]
     },
     "metadata": {
      "needs_background": "light"
     },
     "output_type": "display_data"
    },
    {
     "data": {
      "image/png": "[encoded data removed]",
      "text/plain": [
       "<Figure size 432x288 with 1 Axes>"
      ]
     },
     "metadata": {
      "needs_background": "light"
     },
     "output_type": "display_data"
    },
    {
     "data": {
      "image/png": "[encoded data removed]",
      "text/plain": [
       "<Figure size 432x288 with 1 Axes>"
      ]
     },
     "metadata": {
      "needs_background": "light"
     },
     "output_type": "display_data"
    },
    {
     "data": {
      "image/png": "[encoded data removed]",
      "text/plain": [
       "<Figure size 432x288 with 1 Axes>"
      ]
     },
     "metadata": {
      "needs_background": "light"
     },
     "output_type": "display_data"
    },
    {
     "data": {
      "image/png": "[encoded data removed]",
      "text/plain": [
       "<Figure size 432x288 with 1 Axes>"
      ]
     },
     "metadata": {
      "needs_background": "light"
     },
     "output_type": "display_data"
    },
    {
     "data": {
      "image/png": "[encoded data removed]",
      "text/plain": [
       "<Figure size 432x288 with 1 Axes>"
      ]
     },
     "metadata": {
      "needs_background": "light"
     },
     "output_type": "display_data"
    }
   ],
   "source": [
    "sensationHeading = np.genfromtxt(\"movieReplicationSet.csv\", max_rows =1,dtype = str,\n",
    "                             delimiter=\",\",usecols=[*range(400,420)])\n",
    "for ii in range(6):\n",
    "    plt.bar(x,Sloadings[ii,:]*-1)\n",
    "    plt.xticks(np.arange(0,20,2))\n",
    "    plt.xlabel(\"Component\")\n",
    "    plt.ylabel(\"Loading\")\n",
    "    plt.show()"
   ]
  },
  {
   "cell_type": "code",
   "execution_count": 9,
   "id": "643e16d3",
   "metadata": {},
   "outputs": [
    {
     "data": {
      "image/png": "[encoded data removed]",
      "text/plain": [
       "<Figure size 432x288 with 1 Axes>"
      ]
     },
     "metadata": {
      "needs_background": "light"
     },
     "output_type": "display_data"
    }
   ],
   "source": [
    "numClasses = 10\n",
    "x = np.linspace(1, numClasses, numClasses)\n",
    "plt.bar(x, MeigVals)\n",
    "plt.plot([0, numClasses],[1,1],color='orange')\n",
    "plt.title(\"Movie Experience Eigen Value\")\n",
    "plt.xlabel('Principal components')\n",
    "plt.ylabel('Eigenvalues')\n",
    "plt.show()"
   ]
  },
  {
   "cell_type": "code",
   "execution_count": 10,
   "id": "8f6106da",
   "metadata": {},
   "outputs": [
    {
     "ename": "NameError",
     "evalue": "name 'kaiserThreshhold' is not defined",
     "output_type": "error",
     "traceback": [
      "\u001b[0;31m---------------------------------------------------------------------------\u001b[0m",
      "\u001b[0;31mNameError\u001b[0m                                 Traceback (most recent call last)",
      "\u001b[0;32m/var/folders/8z/b9ws4h1n5snfdx3qgmqsj6fc0000gn/T/ipykernel_22554/1448487577.py\u001b[0m in \u001b[0;36m<module>\u001b[0;34m\u001b[0m\n\u001b[1;32m      2\u001b[0m \u001b[0mthreshold\u001b[0m \u001b[0;34m=\u001b[0m \u001b[0;36m90\u001b[0m\u001b[0;34m\u001b[0m\u001b[0;34m\u001b[0m\u001b[0m\n\u001b[1;32m      3\u001b[0m \u001b[0meigSum\u001b[0m \u001b[0;34m=\u001b[0m \u001b[0mnp\u001b[0m\u001b[0;34m.\u001b[0m\u001b[0mcumsum\u001b[0m\u001b[0;34m(\u001b[0m\u001b[0mMcovarExplained\u001b[0m\u001b[0;34m)\u001b[0m\u001b[0;34m\u001b[0m\u001b[0;34m\u001b[0m\u001b[0m\n\u001b[0;32m----> 4\u001b[0;31m \u001b[0mprint\u001b[0m\u001b[0;34m(\u001b[0m\u001b[0;34m'Number of factors selected by Kaiser criterion:'\u001b[0m\u001b[0;34m,\u001b[0m \u001b[0mnp\u001b[0m\u001b[0;34m.\u001b[0m\u001b[0mcount_nonzero\u001b[0m\u001b[0;34m(\u001b[0m\u001b[0mMeigVals\u001b[0m \u001b[0;34m>\u001b[0m \u001b[0mkaiserThreshhold\u001b[0m\u001b[0;34m)\u001b[0m\u001b[0;34m)\u001b[0m\u001b[0;34m\u001b[0m\u001b[0;34m\u001b[0m\u001b[0m\n\u001b[0m\u001b[1;32m      5\u001b[0m \u001b[0mprint\u001b[0m\u001b[0;34m(\u001b[0m\u001b[0;34m\"Number of factors selected by Elbow Critetion: 6\"\u001b[0m\u001b[0;34m)\u001b[0m\u001b[0;34m\u001b[0m\u001b[0;34m\u001b[0m\u001b[0m\n\u001b[1;32m      6\u001b[0m \u001b[0mprint\u001b[0m\u001b[0;34m(\u001b[0m\u001b[0;34m'Number of factors to account for at least 90% variance:'\u001b[0m\u001b[0;34m,\u001b[0m \u001b[0mnp\u001b[0m\u001b[0;34m.\u001b[0m\u001b[0mcount_nonzero\u001b[0m\u001b[0;34m(\u001b[0m\u001b[0meigSum\u001b[0m \u001b[0;34m<\u001b[0m \u001b[0mthreshold\u001b[0m\u001b[0;34m)\u001b[0m \u001b[0;34m+\u001b[0m \u001b[0;36m1\u001b[0m\u001b[0;34m)\u001b[0m\u001b[0;34m\u001b[0m\u001b[0;34m\u001b[0m\u001b[0m\n",
      "\u001b[0;31mNameError\u001b[0m: name 'kaiserThreshhold' is not defined"
     ]
    }
   ],
   "source": [
    "kaiserThreshold = 1\n",
    "threshold = 90\n",
    "eigSum = np.cumsum(McovarExplained)\n",
    "print('Number of factors selected by Kaiser criterion:', np.count_nonzero(MeigVals > kaiserThreshhold))\n",
    "print(\"Number of factors selected by Elbow Critetion: 6\")\n",
    "print('Number of factors to account for at least 90% variance:', np.count_nonzero(eigSum < threshold) + 1)"
   ]
  },
  {
   "cell_type": "code",
   "execution_count": 11,
   "id": "8fe945b0",
   "metadata": {},
   "outputs": [
    {
     "data": {
      "image/png": "[encoded data removed]",
      "text/plain": [
       "<Figure size 432x288 with 1 Axes>"
      ]
     },
     "metadata": {
      "needs_background": "light"
     },
     "output_type": "display_data"
    },
    {
     "data": {
      "image/png": "[encoded data removed]",
      "text/plain": [
       "<Figure size 432x288 with 1 Axes>"
      ]
     },
     "metadata": {
      "needs_background": "light"
     },
     "output_type": "display_data"
    }
   ],
   "source": [
    "experienceHeading = np.genfromtxt(\"movieReplicationSet.csv\", max_rows =1,\n",
    "                             delimiter=\",\",usecols=[*range(464,474)])\n",
    "for ii in range(2):\n",
    "    plt.bar(x,Mloadings[ii,:]*-1)\n",
    "    plt.xticks(np.arange(0,10,2))\n",
    "    plt.xlabel(\"Component\")\n",
    "    plt.ylabel(\"Loading\")\n",
    "    plt.show()"
   ]
  },
  {
   "cell_type": "code",
   "execution_count": 12,
   "id": "d298e725",
   "metadata": {},
   "outputs": [
    {
     "data": {
      "image/png": "[encoded data removed]",
      "text/plain": [
       "<Figure size 432x288 with 2 Axes>"
      ]
     },
     "metadata": {
      "needs_background": "light"
     },
     "output_type": "display_data"
    }
   ],
   "source": [
    "Sreduced = SrotatedData[:, :6]\n",
    "Ereduced = MrotatedData[:, :2]\n",
    "\n",
    "corr = np.corrcoef(Sreduced, Ereduced, rowvar=False)\n",
    "plt.imshow(corr[:6,6:])\n",
    "plt.xlabel(\"Sensation Seeking\")\n",
    "plt.ylabel(\"Movie Experience\")\n",
    "plt.title(\"Correlation\")\n",
    "plt.colorbar()\n",
    "plt.show()"
   ]
  },
  {
   "cell_type": "markdown",
   "id": "ce6c7a34",
   "metadata": {},
   "source": [
    "## Conclussion\n",
    "Since, from the graph. the greatest correlation between the sensation seeking and movie experience does not exceed 0.15. They are weekly correlated. After we do the dimension reduction for both Sensation seeking and Movie Experience, we have found the primary compounded component for each, and then found that the correlation between them are still very low. Thus, we could further conclude that the sensation seeking and movie experience are weakly correlated"
   ]
  },
  {
   "cell_type": "markdown",
   "id": "c2219c6d",
   "metadata": {},
   "source": [
    "# Question 2 \n",
    "Is there evidence of personality types based on the data of theses research participents? If so, characterize these types both quantitively and narratively."
   ]
  },
  {
   "cell_type": "code",
   "execution_count": 13,
   "id": "10401f0d",
   "metadata": {},
   "outputs": [],
   "source": [
    "#Import the Data\n",
    "personality = np.genfromtxt(\"movieReplicationSet.csv\", skip_header=1, \n",
    "                             delimiter=\",\",usecols=[*range(420,464)])\n",
    "personality = personality[~np.isnan(personality).any(axis=1)]\n",
    "cor = np.corrcoef(personality, rowvar= False)"
   ]
  },
  {
   "cell_type": "code",
   "execution_count": 14,
   "id": "3c7c5a3c",
   "metadata": {},
   "outputs": [
    {
     "data": {
      "image/png": "[encoded data removed]",
      "text/plain": [
       "<Figure size 432x288 with 2 Axes>"
      ]
     },
     "metadata": {
      "needs_background": "light"
     },
     "output_type": "display_data"
    }
   ],
   "source": [
    "plt.imshow(cor)\n",
    "plt.title(\"Correlation\")\n",
    "plt.colorbar()\n",
    "plt.show()"
   ]
  },
  {
   "cell_type": "code",
   "execution_count": 15,
   "id": "a5adc540",
   "metadata": {},
   "outputs": [
    {
     "ename": "NameError",
     "evalue": "name 'zscoredata' is not defined",
     "output_type": "error",
     "traceback": [
      "\u001b[0;31m---------------------------------------------------------------------------\u001b[0m",
      "\u001b[0;31mNameError\u001b[0m                                 Traceback (most recent call last)",
      "\u001b[0;32m/var/folders/8z/b9ws4h1n5snfdx3qgmqsj6fc0000gn/T/ipykernel_22554/4128175982.py\u001b[0m in \u001b[0;36m<module>\u001b[0;34m\u001b[0m\n\u001b[1;32m      3\u001b[0m \u001b[0meigVals\u001b[0m \u001b[0;34m=\u001b[0m \u001b[0mpca\u001b[0m\u001b[0;34m.\u001b[0m\u001b[0mexplained_variance_\u001b[0m\u001b[0;34m\u001b[0m\u001b[0;34m\u001b[0m\u001b[0m\n\u001b[1;32m      4\u001b[0m \u001b[0mloadings\u001b[0m \u001b[0;34m=\u001b[0m \u001b[0mpca\u001b[0m\u001b[0;34m.\u001b[0m\u001b[0mcomponents_\u001b[0m\u001b[0;34m\u001b[0m\u001b[0;34m\u001b[0m\u001b[0m\n\u001b[0;32m----> 5\u001b[0;31m \u001b[0mrotatedData\u001b[0m \u001b[0;34m=\u001b[0m \u001b[0mpca\u001b[0m\u001b[0;34m.\u001b[0m\u001b[0mfit_transform\u001b[0m\u001b[0;34m(\u001b[0m\u001b[0mzscoredata\u001b[0m\u001b[0;34m)\u001b[0m\u001b[0;34m\u001b[0m\u001b[0;34m\u001b[0m\u001b[0m\n\u001b[0m\u001b[1;32m      6\u001b[0m \u001b[0mvarExplained\u001b[0m \u001b[0;34m=\u001b[0m \u001b[0meigVals\u001b[0m\u001b[0;34m/\u001b[0m\u001b[0msum\u001b[0m\u001b[0;34m(\u001b[0m\u001b[0meigVals\u001b[0m\u001b[0;34m)\u001b[0m\u001b[0;34m*\u001b[0m\u001b[0;36m100\u001b[0m\u001b[0;34m\u001b[0m\u001b[0;34m\u001b[0m\u001b[0m\n",
      "\u001b[0;31mNameError\u001b[0m: name 'zscoredata' is not defined"
     ]
    }
   ],
   "source": [
    "#Doing PCA\n",
    "pca = PCA().fit(stats.zscore(personality))\n",
    "eigVals = pca.explained_variance_\n",
    "loadings = pca.components_\n",
    "rotatedData = pca.fit_transform(zscoredata)\n",
    "varExplained = eigVals/sum(eigVals)*100"
   ]
  },
  {
   "cell_type": "code",
   "execution_count": 16,
   "id": "f8153fa0",
   "metadata": {},
   "outputs": [
    {
     "data": {
      "image/png": "[encoded data removed]",
      "text/plain": [
       "<Figure size 432x288 with 1 Axes>"
      ]
     },
     "metadata": {
      "needs_background": "light"
     },
     "output_type": "display_data"
    }
   ],
   "source": [
    "#Making a scree plot\n",
    "num = 44\n",
    "x = np.linspace(1,num,num)\n",
    "plt.bar(x,eigVals,color=\"gray\")\n",
    "plt.plot([0,num],[1,1],color=\"orange\")\n",
    "plt.xlabel(\"Principal Component\")\n",
    "plt.ylabel(\"Eigenvalue\")\n",
    "plt.show()"
   ]
  },
  {
   "cell_type": "code",
   "execution_count": 17,
   "id": "bc0809a5",
   "metadata": {},
   "outputs": [
    {
     "ename": "NameError",
     "evalue": "name 'varExplained' is not defined",
     "output_type": "error",
     "traceback": [
      "\u001b[0;31m---------------------------------------------------------------------------\u001b[0m",
      "\u001b[0;31mNameError\u001b[0m                                 Traceback (most recent call last)",
      "\u001b[0;32m/var/folders/8z/b9ws4h1n5snfdx3qgmqsj6fc0000gn/T/ipykernel_22554/3946802884.py\u001b[0m in \u001b[0;36m<module>\u001b[0;34m\u001b[0m\n\u001b[1;32m      1\u001b[0m \u001b[0mkaiserThreshhold\u001b[0m \u001b[0;34m=\u001b[0m \u001b[0;36m1\u001b[0m\u001b[0;34m\u001b[0m\u001b[0;34m\u001b[0m\u001b[0m\n\u001b[1;32m      2\u001b[0m \u001b[0mthreshhold\u001b[0m \u001b[0;34m=\u001b[0m \u001b[0;36m90\u001b[0m\u001b[0;34m\u001b[0m\u001b[0;34m\u001b[0m\u001b[0m\n\u001b[0;32m----> 3\u001b[0;31m \u001b[0meigSum\u001b[0m \u001b[0;34m=\u001b[0m \u001b[0mnp\u001b[0m\u001b[0;34m.\u001b[0m\u001b[0mcumsum\u001b[0m\u001b[0;34m(\u001b[0m\u001b[0mvarExplained\u001b[0m\u001b[0;34m)\u001b[0m\u001b[0;34m\u001b[0m\u001b[0;34m\u001b[0m\u001b[0m\n\u001b[0m\u001b[1;32m      4\u001b[0m \u001b[0mprint\u001b[0m\u001b[0;34m(\u001b[0m\u001b[0;34m\"Number of factors selected by Kaiser Criterion: \"\u001b[0m\u001b[0;34m,\u001b[0m\u001b[0mnp\u001b[0m\u001b[0;34m.\u001b[0m\u001b[0mcount_nonzero\u001b[0m\u001b[0;34m(\u001b[0m\u001b[0meigVals\u001b[0m \u001b[0;34m>\u001b[0m \u001b[0mkaiserThreshhold\u001b[0m\u001b[0;34m)\u001b[0m\u001b[0;34m)\u001b[0m\u001b[0;34m\u001b[0m\u001b[0;34m\u001b[0m\u001b[0m\n\u001b[1;32m      5\u001b[0m \u001b[0mprint\u001b[0m\u001b[0;34m(\u001b[0m\u001b[0;34m\"Number of factors selected by Elbow Critetion: 9\"\u001b[0m\u001b[0;34m)\u001b[0m\u001b[0;34m\u001b[0m\u001b[0;34m\u001b[0m\u001b[0m\n",
      "\u001b[0;31mNameError\u001b[0m: name 'varExplained' is not defined"
     ]
    }
   ],
   "source": [
    "kaiserThreshhold = 1\n",
    "threshhold = 90\n",
    "eigSum = np.cumsum(varExplained)\n",
    "print(\"Number of factors selected by Kaiser Criterion: \",np.count_nonzero(eigVals > kaiserThreshhold))\n",
    "print(\"Number of factors selected by Elbow Critetion: 9\")\n",
    "print(\"Number of factors to account for at least 90% variance: \", np.count_nonzero(eigSum<threshhold)+1)"
   ]
  },
  {
   "cell_type": "markdown",
   "id": "be4156d9",
   "metadata": {},
   "source": [
    "## Interpreting The factors\n",
    "        - by using the Kaiser Criterion"
   ]
  },
  {
   "cell_type": "code",
   "execution_count": 18,
   "id": "59d3ba30",
   "metadata": {},
   "outputs": [
    {
     "data": {
      "image/png": "[encoded data removed]",
      "text/plain": [
       "<Figure size 432x288 with 1 Axes>"
      ]
     },
     "metadata": {
      "needs_background": "light"
     },
     "output_type": "display_data"
    },
    {
     "data": {
      "image/png": "[encoded data removed]",
      "text/plain": [
       "<Figure size 432x288 with 1 Axes>"
      ]
     },
     "metadata": {
      "needs_background": "light"
     },
     "output_type": "display_data"
    }
   ],
   "source": [
    "header = np.genfromtxt(\"movieReplicationSet.csv\", max_rows= 1, dtype=str,\n",
    "                             delimiter=\",\",usecols=[*range(420,464)])\n",
    "#print(header)\n",
    "for i in range(2):\n",
    "    plt.bar(x,loadings[i,:]*-1)\n",
    "    plt.xticks(np.arange(0,44,2))\n",
    "    plt.xlabel(\"Component\")\n",
    "    plt.ylabel(\"Loading\")\n",
    "    plt.show()"
   ]
  },
  {
   "cell_type": "code",
   "execution_count": 19,
   "id": "fba644c3",
   "metadata": {},
   "outputs": [
    {
     "name": "stdout",
     "output_type": "stream",
     "text": [
      "Component 1: \n",
      "Is full of energy ,  Generates a lot of Enthusiasm , is outgoing/sociable\n",
      "Component 2: \n",
      "Worries a lot ,  Has an active imagination ,  Can be moody ,  Values artistic/aesthetic experiences ,  Gets nervous easily\n"
     ]
    }
   ],
   "source": [
    "# Understanding the Main component\n",
    "print(\"Component 1: \")\n",
    "print(header[10],\", \", header[15],\",\" ,header[35])\n",
    "print(\"Component 2: \")\n",
    "print(header[18],\", \", header[19], \", \", header[28], \", \",\n",
    "      header[29], \", \", header[38])"
   ]
  },
  {
   "cell_type": "markdown",
   "id": "31826f12",
   "metadata": {},
   "source": [
    "## Naming the main component\n",
    "PC1: Optimistic , PC2: Emotional Fragile"
   ]
  },
  {
   "cell_type": "code",
   "execution_count": 20,
   "id": "40611c3c",
   "metadata": {},
   "outputs": [
    {
     "ename": "NameError",
     "evalue": "name 'rotatedData' is not defined",
     "output_type": "error",
     "traceback": [
      "\u001b[0;31m---------------------------------------------------------------------------\u001b[0m",
      "\u001b[0;31mNameError\u001b[0m                                 Traceback (most recent call last)",
      "\u001b[0;32m/var/folders/8z/b9ws4h1n5snfdx3qgmqsj6fc0000gn/T/ipykernel_22554/701028596.py\u001b[0m in \u001b[0;36m<module>\u001b[0;34m\u001b[0m\n\u001b[1;32m      1\u001b[0m \u001b[0;31m# The actrual Clustering\u001b[0m\u001b[0;34m\u001b[0m\u001b[0;34m\u001b[0m\u001b[0m\n\u001b[0;32m----> 2\u001b[0;31m \u001b[0mx\u001b[0m \u001b[0;34m=\u001b[0m \u001b[0mnp\u001b[0m\u001b[0;34m.\u001b[0m\u001b[0mcolumn_stack\u001b[0m\u001b[0;34m(\u001b[0m\u001b[0;34m(\u001b[0m\u001b[0mrotatedData\u001b[0m\u001b[0;34m[\u001b[0m\u001b[0;34m:\u001b[0m\u001b[0;34m,\u001b[0m\u001b[0;36m0\u001b[0m\u001b[0;34m]\u001b[0m\u001b[0;34m,\u001b[0m\u001b[0mrotatedData\u001b[0m\u001b[0;34m[\u001b[0m\u001b[0;34m:\u001b[0m\u001b[0;34m,\u001b[0m\u001b[0;36m1\u001b[0m\u001b[0;34m]\u001b[0m\u001b[0;34m)\u001b[0m\u001b[0;34m)\u001b[0m\u001b[0;34m\u001b[0m\u001b[0;34m\u001b[0m\u001b[0m\n\u001b[0m\u001b[1;32m      3\u001b[0m \u001b[0mnumClusters\u001b[0m \u001b[0;34m=\u001b[0m \u001b[0;36m9\u001b[0m \u001b[0;31m#loop from 2 to 10\u001b[0m\u001b[0;34m\u001b[0m\u001b[0;34m\u001b[0m\u001b[0m\n\u001b[1;32m      4\u001b[0m \u001b[0msSum\u001b[0m \u001b[0;34m=\u001b[0m \u001b[0mnp\u001b[0m\u001b[0;34m.\u001b[0m\u001b[0mempty\u001b[0m\u001b[0;34m(\u001b[0m\u001b[0;34m[\u001b[0m\u001b[0mnumClusters\u001b[0m\u001b[0;34m,\u001b[0m\u001b[0;36m1\u001b[0m\u001b[0;34m]\u001b[0m\u001b[0;34m)\u001b[0m\u001b[0;34m*\u001b[0m\u001b[0mnp\u001b[0m\u001b[0;34m.\u001b[0m\u001b[0mNaN\u001b[0m\u001b[0;34m\u001b[0m\u001b[0;34m\u001b[0m\u001b[0m\n\u001b[1;32m      5\u001b[0m \u001b[0;31m#Compute Kmeans for each k\u001b[0m\u001b[0;34m\u001b[0m\u001b[0;34m\u001b[0m\u001b[0m\n",
      "\u001b[0;31mNameError\u001b[0m: name 'rotatedData' is not defined"
     ]
    }
   ],
   "source": [
    "# The actrual Clustering\n",
    "x = np.column_stack((rotatedData[:,0],rotatedData[:,1]))\n",
    "numClusters = 9 #loop from 2 to 10\n",
    "sSum = np.empty([numClusters,1])*np.NaN\n",
    "#Compute Kmeans for each k\n",
    "for ii in range(2, numClusters+2): # Loop through each cluster (from 2 to 10)\n",
    "    kMeans = KMeans(n_clusters = int(ii)).fit(x) # compute kmeans using scikit\n",
    "    cId = kMeans.labels_ # vector of cluster IDs that the row belongs to\n",
    "    cCoords = kMeans.cluster_centers_ # coordinate location for center of each cluster\n",
    "    s = silhouette_samples(x,cId) # compute the mean silhouette coefficient of all samples\n",
    "    sSum[ii-2] = sum(s) # take the sum\n",
    "    # Plot data:\n",
    "    plt.subplot(3,3,ii-1) \n",
    "    plt.hist(s,bins=20) \n",
    "    plt.xlim(-0.2,1)\n",
    "    plt.ylim(0,250)\n",
    "    plt.xlabel('Silhouette score')\n",
    "    plt.ylabel('Count')\n",
    "    plt.title('Sum: {}'.format(int(sSum[ii-2]))) # sum rounded to nearest integer\n",
    "    plt.tight_layout() # adjusts subplot "
   ]
  },
  {
   "cell_type": "code",
   "execution_count": 21,
   "id": "4c48541f",
   "metadata": {},
   "outputs": [
    {
     "ename": "NameError",
     "evalue": "name 'numClusters' is not defined",
     "output_type": "error",
     "traceback": [
      "\u001b[0;31m---------------------------------------------------------------------------\u001b[0m",
      "\u001b[0;31mNameError\u001b[0m                                 Traceback (most recent call last)",
      "\u001b[0;32m/var/folders/8z/b9ws4h1n5snfdx3qgmqsj6fc0000gn/T/ipykernel_22554/58308750.py\u001b[0m in \u001b[0;36m<module>\u001b[0;34m\u001b[0m\n\u001b[1;32m      1\u001b[0m \u001b[0;31m# Plot the sum of the silhouette scores as a function of the number of clusters, to make it clearer what is going on\u001b[0m\u001b[0;34m\u001b[0m\u001b[0;34m\u001b[0m\u001b[0m\n\u001b[0;32m----> 2\u001b[0;31m \u001b[0mplt\u001b[0m\u001b[0;34m.\u001b[0m\u001b[0mplot\u001b[0m\u001b[0;34m(\u001b[0m\u001b[0mnp\u001b[0m\u001b[0;34m.\u001b[0m\u001b[0mlinspace\u001b[0m\u001b[0;34m(\u001b[0m\u001b[0;36m2\u001b[0m\u001b[0;34m,\u001b[0m\u001b[0mnumClusters\u001b[0m\u001b[0;34m,\u001b[0m\u001b[0;36m9\u001b[0m\u001b[0;34m)\u001b[0m\u001b[0;34m,\u001b[0m\u001b[0msSum\u001b[0m\u001b[0;34m)\u001b[0m\u001b[0;34m\u001b[0m\u001b[0;34m\u001b[0m\u001b[0m\n\u001b[0m\u001b[1;32m      3\u001b[0m \u001b[0mplt\u001b[0m\u001b[0;34m.\u001b[0m\u001b[0mxlabel\u001b[0m\u001b[0;34m(\u001b[0m\u001b[0;34m'Number of clusters'\u001b[0m\u001b[0;34m)\u001b[0m\u001b[0;34m\u001b[0m\u001b[0;34m\u001b[0m\u001b[0m\n\u001b[1;32m      4\u001b[0m \u001b[0mplt\u001b[0m\u001b[0;34m.\u001b[0m\u001b[0mylabel\u001b[0m\u001b[0;34m(\u001b[0m\u001b[0;34m'Sum of silhouette scores'\u001b[0m\u001b[0;34m)\u001b[0m\u001b[0;34m\u001b[0m\u001b[0;34m\u001b[0m\u001b[0m\n\u001b[1;32m      5\u001b[0m \u001b[0mplt\u001b[0m\u001b[0;34m.\u001b[0m\u001b[0mshow\u001b[0m\u001b[0;34m(\u001b[0m\u001b[0;34m)\u001b[0m\u001b[0;34m\u001b[0m\u001b[0;34m\u001b[0m\u001b[0m\n",
      "\u001b[0;31mNameError\u001b[0m: name 'numClusters' is not defined"
     ]
    }
   ],
   "source": [
    "# Plot the sum of the silhouette scores as a function of the number of clusters, to make it clearer what is going on\n",
    "plt.plot(np.linspace(2,numClusters,9),sSum)\n",
    "plt.xlabel('Number of clusters')\n",
    "plt.ylabel('Sum of silhouette scores')\n",
    "plt.show()"
   ]
  },
  {
   "cell_type": "markdown",
   "id": "25f183ee",
   "metadata": {},
   "source": [
    "## Choosing the K\n",
    "From the graph, we can conlude that see 2 cluster is the optimal choice"
   ]
  },
  {
   "cell_type": "code",
   "execution_count": 22,
   "id": "f0b13f81",
   "metadata": {},
   "outputs": [
    {
     "ename": "ValueError",
     "evalue": "Expected 2D array, got 1D array instead:\narray=[ 1.  2.  3.  4.  5.  6.  7.  8.  9. 10. 11. 12. 13. 14. 15. 16. 17. 18.\n 19. 20. 21. 22. 23. 24. 25. 26. 27. 28. 29. 30. 31. 32. 33. 34. 35. 36.\n 37. 38. 39. 40. 41. 42. 43. 44.].\nReshape your data either using array.reshape(-1, 1) if your data has a single feature or array.reshape(1, -1) if it contains a single sample.",
     "output_type": "error",
     "traceback": [
      "\u001b[0;31m---------------------------------------------------------------------------\u001b[0m",
      "\u001b[0;31mValueError\u001b[0m                                Traceback (most recent call last)",
      "\u001b[0;32m/var/folders/8z/b9ws4h1n5snfdx3qgmqsj6fc0000gn/T/ipykernel_22554/2811681208.py\u001b[0m in \u001b[0;36m<module>\u001b[0;34m\u001b[0m\n\u001b[1;32m      1\u001b[0m \u001b[0;31m# Now we determined the Optimal k we can now ask kMeans to cluster the data for us assuming that k\u001b[0m\u001b[0;34m\u001b[0m\u001b[0;34m\u001b[0m\u001b[0m\n\u001b[1;32m      2\u001b[0m \u001b[0mnumClusters\u001b[0m \u001b[0;34m=\u001b[0m \u001b[0;36m2\u001b[0m\u001b[0;34m\u001b[0m\u001b[0;34m\u001b[0m\u001b[0m\n\u001b[0;32m----> 3\u001b[0;31m \u001b[0mkMeans\u001b[0m \u001b[0;34m=\u001b[0m \u001b[0mKMeans\u001b[0m\u001b[0;34m(\u001b[0m\u001b[0mn_clusters\u001b[0m \u001b[0;34m=\u001b[0m \u001b[0mnumClusters\u001b[0m\u001b[0;34m)\u001b[0m\u001b[0;34m.\u001b[0m\u001b[0mfit\u001b[0m\u001b[0;34m(\u001b[0m\u001b[0mx\u001b[0m\u001b[0;34m)\u001b[0m\u001b[0;34m\u001b[0m\u001b[0;34m\u001b[0m\u001b[0m\n\u001b[0m\u001b[1;32m      4\u001b[0m \u001b[0mcId\u001b[0m \u001b[0;34m=\u001b[0m \u001b[0mkMeans\u001b[0m\u001b[0;34m.\u001b[0m\u001b[0mlabels_\u001b[0m\u001b[0;34m\u001b[0m\u001b[0;34m\u001b[0m\u001b[0m\n\u001b[1;32m      5\u001b[0m \u001b[0mcCoords\u001b[0m \u001b[0;34m=\u001b[0m \u001b[0mkMeans\u001b[0m\u001b[0;34m.\u001b[0m\u001b[0mcluster_centers_\u001b[0m\u001b[0;34m\u001b[0m\u001b[0;34m\u001b[0m\u001b[0m\n",
      "\u001b[0;32m/opt/anaconda3/envs/scipy4/lib/python3.10/site-packages/sklearn/cluster/_kmeans.py\u001b[0m in \u001b[0;36mfit\u001b[0;34m(self, X, y, sample_weight)\u001b[0m\n\u001b[1;32m   1135\u001b[0m             \u001b[0mFitted\u001b[0m \u001b[0mestimator\u001b[0m\u001b[0;34m.\u001b[0m\u001b[0;34m\u001b[0m\u001b[0;34m\u001b[0m\u001b[0m\n\u001b[1;32m   1136\u001b[0m         \"\"\"\n\u001b[0;32m-> 1137\u001b[0;31m         X = self._validate_data(\n\u001b[0m\u001b[1;32m   1138\u001b[0m             \u001b[0mX\u001b[0m\u001b[0;34m,\u001b[0m\u001b[0;34m\u001b[0m\u001b[0;34m\u001b[0m\u001b[0m\n\u001b[1;32m   1139\u001b[0m             \u001b[0maccept_sparse\u001b[0m\u001b[0;34m=\u001b[0m\u001b[0;34m\"csr\"\u001b[0m\u001b[0;34m,\u001b[0m\u001b[0;34m\u001b[0m\u001b[0;34m\u001b[0m\u001b[0m\n",
      "\u001b[0;32m/opt/anaconda3/envs/scipy4/lib/python3.10/site-packages/sklearn/base.py\u001b[0m in \u001b[0;36m_validate_data\u001b[0;34m(self, X, y, reset, validate_separately, **check_params)\u001b[0m\n\u001b[1;32m    564\u001b[0m             \u001b[0;32mraise\u001b[0m \u001b[0mValueError\u001b[0m\u001b[0;34m(\u001b[0m\u001b[0;34m\"Validation should be done on X, y or both.\"\u001b[0m\u001b[0;34m)\u001b[0m\u001b[0;34m\u001b[0m\u001b[0;34m\u001b[0m\u001b[0m\n\u001b[1;32m    565\u001b[0m         \u001b[0;32melif\u001b[0m \u001b[0;32mnot\u001b[0m \u001b[0mno_val_X\u001b[0m \u001b[0;32mand\u001b[0m \u001b[0mno_val_y\u001b[0m\u001b[0;34m:\u001b[0m\u001b[0;34m\u001b[0m\u001b[0;34m\u001b[0m\u001b[0m\n\u001b[0;32m--> 566\u001b[0;31m             \u001b[0mX\u001b[0m \u001b[0;34m=\u001b[0m \u001b[0mcheck_array\u001b[0m\u001b[0;34m(\u001b[0m\u001b[0mX\u001b[0m\u001b[0;34m,\u001b[0m \u001b[0;34m**\u001b[0m\u001b[0mcheck_params\u001b[0m\u001b[0;34m)\u001b[0m\u001b[0;34m\u001b[0m\u001b[0;34m\u001b[0m\u001b[0m\n\u001b[0m\u001b[1;32m    567\u001b[0m             \u001b[0mout\u001b[0m \u001b[0;34m=\u001b[0m \u001b[0mX\u001b[0m\u001b[0;34m\u001b[0m\u001b[0;34m\u001b[0m\u001b[0m\n\u001b[1;32m    568\u001b[0m         \u001b[0;32melif\u001b[0m \u001b[0mno_val_X\u001b[0m \u001b[0;32mand\u001b[0m \u001b[0;32mnot\u001b[0m \u001b[0mno_val_y\u001b[0m\u001b[0;34m:\u001b[0m\u001b[0;34m\u001b[0m\u001b[0;34m\u001b[0m\u001b[0m\n",
      "\u001b[0;32m/opt/anaconda3/envs/scipy4/lib/python3.10/site-packages/sklearn/utils/validation.py\u001b[0m in \u001b[0;36mcheck_array\u001b[0;34m(array, accept_sparse, accept_large_sparse, dtype, order, copy, force_all_finite, ensure_2d, allow_nd, ensure_min_samples, ensure_min_features, estimator)\u001b[0m\n\u001b[1;32m    767\u001b[0m             \u001b[0;31m# If input is 1D raise error\u001b[0m\u001b[0;34m\u001b[0m\u001b[0;34m\u001b[0m\u001b[0m\n\u001b[1;32m    768\u001b[0m             \u001b[0;32mif\u001b[0m \u001b[0marray\u001b[0m\u001b[0;34m.\u001b[0m\u001b[0mndim\u001b[0m \u001b[0;34m==\u001b[0m \u001b[0;36m1\u001b[0m\u001b[0;34m:\u001b[0m\u001b[0;34m\u001b[0m\u001b[0;34m\u001b[0m\u001b[0m\n\u001b[0;32m--> 769\u001b[0;31m                 raise ValueError(\n\u001b[0m\u001b[1;32m    770\u001b[0m                     \u001b[0;34m\"Expected 2D array, got 1D array instead:\\narray={}.\\n\"\u001b[0m\u001b[0;34m\u001b[0m\u001b[0;34m\u001b[0m\u001b[0m\n\u001b[1;32m    771\u001b[0m                     \u001b[0;34m\"Reshape your data either using array.reshape(-1, 1) if \"\u001b[0m\u001b[0;34m\u001b[0m\u001b[0;34m\u001b[0m\u001b[0m\n",
      "\u001b[0;31mValueError\u001b[0m: Expected 2D array, got 1D array instead:\narray=[ 1.  2.  3.  4.  5.  6.  7.  8.  9. 10. 11. 12. 13. 14. 15. 16. 17. 18.\n 19. 20. 21. 22. 23. 24. 25. 26. 27. 28. 29. 30. 31. 32. 33. 34. 35. 36.\n 37. 38. 39. 40. 41. 42. 43. 44.].\nReshape your data either using array.reshape(-1, 1) if your data has a single feature or array.reshape(1, -1) if it contains a single sample."
     ]
    }
   ],
   "source": [
    "# Now we determined the Optimal k we can now ask kMeans to cluster the data for us assuming that k\n",
    "numClusters = 2\n",
    "kMeans = KMeans(n_clusters = numClusters).fit(x) \n",
    "cId = kMeans.labels_ \n",
    "cCoords = kMeans.cluster_centers_ \n",
    "\n",
    "# Plot the color-coded data:\n",
    "for ii in range(numClusters):\n",
    "    plotIndex = np.argwhere(cId == int(ii))\n",
    "    plt.plot(x[plotIndex,0],x[plotIndex,1],'o',markersize=2)\n",
    "    plt.plot(cCoords[int(ii-1),0],cCoords[int(ii-1),1],'o',markersize=5,color='black')  \n",
    "    plt.xlabel('Optimistic')\n",
    "    plt.ylabel('Emotional Fragility')"
   ]
  },
  {
   "cell_type": "markdown",
   "id": "0362f9a2",
   "metadata": {},
   "source": [
    "## Conclusion\n",
    "    By applying the dimension reduction and clustering, I can conclude that theire is evidence of personality type, which are positive and negative. People that are optismistic located at the right of the x=0, while the people that are pessimistic located at the left of the line x=0."
   ]
  },
  {
   "cell_type": "markdown",
   "id": "e4c61209",
   "metadata": {},
   "source": [
    "# Question 3\n",
    "Are movies that are more popular rated higher than movies that are less popular?"
   ]
  },
  {
   "cell_type": "code",
   "execution_count": 25,
   "id": "60939c19",
   "metadata": {},
   "outputs": [],
   "source": [
    "#import Data\n",
    "data = np.genfromtxt(\"movieReplicationSet.csv\", skip_header = 1, usecols = [*range(400)],\n",
    "                    delimiter = \",\")\n",
    "dataMean = np.nanmean(data, axis= 0)\n",
    "popularity = []\n",
    "for i in range(400):\n",
    "    tempData = data[:,i]\n",
    "    tempData = tempData[~np.isnan(tempData)]\n",
    "    tempLen = len(tempData)\n",
    "    popularity.append(tempLen)"
   ]
  },
  {
   "cell_type": "code",
   "execution_count": 26,
   "id": "606bced4",
   "metadata": {},
   "outputs": [],
   "source": [
    "#find min and max\n",
    "minPop = np.amin(popularity)\n",
    "maxPop = np.amax(popularity)\n",
    "minIndex = np.where(popularity == minPop)\n",
    "maxIndex = np.where(popularity == maxPop)\n",
    "minData = data[:,249]\n",
    "minData = minData[~np.isnan(minData)]\n",
    "maxData = data[:,138]\n",
    "maxData = maxData[~np.isnan(maxData)]"
   ]
  },
  {
   "cell_type": "code",
   "execution_count": 27,
   "id": "9847ab98",
   "metadata": {},
   "outputs": [
    {
     "name": "stdout",
     "output_type": "stream",
     "text": [
      "4.0862919656097074e-05\n"
     ]
    }
   ],
   "source": [
    "#using Paried t-test\n",
    "minData = data[:,249]\n",
    "maxData = data[:,138]\n",
    "combinedData = np.stack((minData,maxData),axis=1)\n",
    "combinedData = combinedData[~np.isnan(combinedData).any(axis=1)]\n",
    "t1, p1 = stats.ttest_rel(combinedData[:,0],combinedData[:,1],alternative = \"less\")\n",
    "print(p1)"
   ]
  },
  {
   "cell_type": "markdown",
   "id": "874ab2fc",
   "metadata": {},
   "source": [
    "Since, by using paired t-test, the p-value is also under 0.01, we can furder conclude that more popular movie are rated higher than less popular movie"
   ]
  },
  {
   "cell_type": "code",
   "execution_count": 28,
   "id": "3df51ccd",
   "metadata": {},
   "outputs": [],
   "source": [
    "#Doing Linear Regression\n",
    "x = np.asarray(popularity).reshape(len(popularity),1)\n",
    "y = dataMean\n",
    "regModel = LinearRegression().fit(x,y)\n",
    "yHat = regModel.coef_ * x + regModel.intercept_"
   ]
  },
  {
   "cell_type": "code",
   "execution_count": 29,
   "id": "b7ea6f5c",
   "metadata": {},
   "outputs": [
    {
     "data": {
      "image/png": "[encoded data removed]",
      "text/plain": [
       "<Figure size 360x360 with 1 Axes>"
      ]
     },
     "metadata": {
      "needs_background": "light"
     },
     "output_type": "display_data"
    }
   ],
   "source": [
    "plt.figure(figsize=(5, 5))\n",
    "plt.scatter(popularity, dataMean, color='blue',s=3)\n",
    "plt.plot(x,yHat,\"g\")\n",
    "plt.title('Correlation between Mean Rating and Popularity: {:.3f}'.format(np.corrcoef(popularity, dataMean)[0,1]))\n",
    "plt.xlabel('Popularity')\n",
    "plt.ylabel('Rating')\n",
    "plt.show()"
   ]
  },
  {
   "cell_type": "markdown",
   "id": "2797261a",
   "metadata": {},
   "source": [
    "## Conclusion\n",
    "By using the paired t-test, we can conclude that more popular movie are rated higher than less popular movie at confidence level of 0.99. Moreover, by reading outcomes from the correlation matrix, Linear regression model, as well as from the graph, we can see a clear positive correlation between popularity and rating."
   ]
  },
  {
   "cell_type": "markdown",
   "id": "517ec21d",
   "metadata": {},
   "source": [
    "# Question 4\n",
    "Is enjoyment of ‘Shrek (2001)’ gendered, i.e. do male and female viewers rate it differently?"
   ]
  },
  {
   "cell_type": "code",
   "execution_count": 30,
   "id": "4e362f1c",
   "metadata": {},
   "outputs": [],
   "source": [
    "overallHeader = np.genfromtxt(\"movieReplicationSet.csv\", dtype=str, max_rows=1,\n",
    "                     delimiter=\",\")\n",
    "def whichMovie(name):\n",
    "    for ii in range(400):\n",
    "        if name in overallHeader[ii]:\n",
    "            return ii"
   ]
  },
  {
   "cell_type": "code",
   "execution_count": 31,
   "id": "31a401cc",
   "metadata": {},
   "outputs": [],
   "source": [
    "# handle data \n",
    "shrek = whichMovie(\"Shrek (2001)\")\n",
    "data = np.genfromtxt(\"movieReplicationSet.csv\",usecols=[shrek,474],skip_header=1,\n",
    "                     delimiter=\",\")\n",
    "data = data[~np.isnan(data).any(axis=1)]\n",
    "male = []\n",
    "female = []\n",
    "for i in range(len(data)):\n",
    "    if data[i,1] == 1:\n",
    "        female.append(i)\n",
    "    elif data[i,1] == 2:\n",
    "        male.append(i)\n",
    "maleData = data[male,0]\n",
    "femaleData = data[female,0]"
   ]
  },
  {
   "cell_type": "code",
   "execution_count": 32,
   "id": "e212d9fa",
   "metadata": {},
   "outputs": [
    {
     "data": {
      "image/png": "[encoded data removed]",
      "text/plain": [
       "<Figure size 432x288 with 2 Axes>"
      ]
     },
     "metadata": {
      "needs_background": "light"
     },
     "output_type": "display_data"
    }
   ],
   "source": [
    "plt.subplot(1,2,1)\n",
    "plt.hist(maleData, len(set(maleData)))\n",
    "plt.xlabel(\"Rating\")\n",
    "plt.ylabel(\"Count\")\n",
    "plt.title(\"Male Rating Histogram\")\n",
    "\n",
    "plt.subplot(1,2,2)\n",
    "plt.hist(femaleData, len(set(femaleData)))\n",
    "plt.xlabel(\"Rating\")\n",
    "plt.ylabel(\"Count\")\n",
    "plt.title(\"Female Rating Histogram\")\n",
    "\n",
    "plt.tight_layout()\n",
    "plt.show()"
   ]
  },
  {
   "cell_type": "code",
   "execution_count": 33,
   "id": "f670f771",
   "metadata": {},
   "outputs": [
    {
     "name": "stdout",
     "output_type": "stream",
     "text": [
      "0.050536625925559006\n"
     ]
    }
   ],
   "source": [
    "#using Mann-Whitney U\n",
    "u,p = stats.mannwhitneyu(maleData, femaleData)\n",
    "print(p)"
   ]
  },
  {
   "cell_type": "markdown",
   "id": "72f8a98b",
   "metadata": {},
   "source": [
    "Since the underlying distribution is not equal as we have different male and female number, we chose to use Mann-Whitney U test. By using Mann-whitney U test, the p-value is aboe 0.05, we failed to reject the null hypothesis that there are no differnece between the rating of famale viewer and male viewer."
   ]
  },
  {
   "cell_type": "code",
   "execution_count": 36,
   "id": "75208639",
   "metadata": {},
   "outputs": [
    {
     "name": "stdout",
     "output_type": "stream",
     "text": [
      "0.24834907946281018\n"
     ]
    }
   ],
   "source": [
    "#using Welch's t-test\n",
    "t1, p1 = stats.ttest_ind(maleData,femaleData,equal_var=False)\n",
    "print(p1)"
   ]
  },
  {
   "cell_type": "markdown",
   "id": "c590372a",
   "metadata": {},
   "source": [
    "Since, by using Welch t-test, the p-value is above 0.05, we failed to reject the null hypothesis that there are no differnece between the rating of famale viewer and more male viewer."
   ]
  },
  {
   "cell_type": "code",
   "execution_count": 37,
   "id": "71f1b891",
   "metadata": {},
   "outputs": [
    {
     "name": "stdout",
     "output_type": "stream",
     "text": [
      "0.05608204072286342\n"
     ]
    }
   ],
   "source": [
    "#using K-S test\n",
    "s2, p2 = stats.kstest(maleData,femaleData)\n",
    "print(p2)"
   ]
  },
  {
   "cell_type": "markdown",
   "id": "3e4315f3",
   "metadata": {},
   "source": [
    "Since, by using KS Test, the p-value is above 0.05, we failed to reject the null hypothesis that there are no differnece between the rating of famale viewer and more male viewer."
   ]
  },
  {
   "cell_type": "markdown",
   "id": "a94c08b3",
   "metadata": {},
   "source": [
    "# Conclusion\n",
    "Since, by using U test and Welch's t-test and KS test, the p-value are all above 0.05, we failed to reject the null hypothesis that there are no differnece between the rating of famale viewer and male viewer."
   ]
  },
  {
   "cell_type": "markdown",
   "id": "ec9c0e03",
   "metadata": {},
   "source": [
    "# Question 5\n",
    "Do people who are only children enjoy ‘The Lion King (1994)’ more than people with siblings?"
   ]
  },
  {
   "cell_type": "code",
   "execution_count": 38,
   "id": "7d06f8be",
   "metadata": {},
   "outputs": [
    {
     "name": "stdout",
     "output_type": "stream",
     "text": [
      "Only Child Mean:  3.347682119205298\n",
      "Not Only Child Mean:  3.481958762886598\n"
     ]
    }
   ],
   "source": [
    "# handle data \n",
    "Lion = whichMovie(\"Lion\")\n",
    "data = np.genfromtxt(\"movieReplicationSet.csv\",usecols=[Lion,475],skip_header=1,\n",
    "                     delimiter=\",\")\n",
    "data = data[~np.isnan(data).any(axis=1)]\n",
    "onlyChild = []\n",
    "notOnlyChild = []\n",
    "for i in range(len(data)):\n",
    "    if data[i,1] == 1:\n",
    "        onlyChild.append(i)\n",
    "    elif data[i,1] == 0:\n",
    "        notOnlyChild.append(i)\n",
    "onlyChildData = data[onlyChild,0]\n",
    "notOnlyChildData = data[notOnlyChild,0]\n",
    "print(\"Only Child Mean: \", np.mean(onlyChildData))\n",
    "print(\"Not Only Child Mean: \", np.mean(notOnlyChildData))"
   ]
  },
  {
   "cell_type": "code",
   "execution_count": 39,
   "id": "916dc763",
   "metadata": {},
   "outputs": [
    {
     "data": {
      "image/png": "[encoded data removed]",
      "text/plain": [
       "<Figure size 432x288 with 2 Axes>"
      ]
     },
     "metadata": {
      "needs_background": "light"
     },
     "output_type": "display_data"
    }
   ],
   "source": [
    "plt.subplot(1,2,1)\n",
    "plt.hist(onlyChildData, len(set(onlyChildData)))\n",
    "plt.xlabel(\"Rating\")\n",
    "plt.ylabel(\"Count\")\n",
    "plt.title(\"Only Child\")\n",
    "\n",
    "plt.subplot(1,2,2)\n",
    "plt.hist(notOnlyChildData, len(set(notOnlyChildData)))\n",
    "plt.xlabel(\"Rating\")\n",
    "plt.ylabel(\"Count\")\n",
    "plt.title(\"Not Only Child\")\n",
    "\n",
    "plt.tight_layout()\n",
    "plt.show()"
   ]
  },
  {
   "cell_type": "code",
   "execution_count": 218,
   "id": "2d120c42",
   "metadata": {},
   "outputs": [
    {
     "name": "stdout",
     "output_type": "stream",
     "text": [
      "0.978419092554931\n"
     ]
    }
   ],
   "source": [
    "#using Mann-Whitney U\n",
    "u,p = stats.mannwhitneyu(onlyChildData, notOnlyChildData,alternative = \"greater\")\n",
    "print(p)"
   ]
  },
  {
   "cell_type": "code",
   "execution_count": 219,
   "id": "7568c5a9",
   "metadata": {},
   "outputs": [
    {
     "name": "stdout",
     "output_type": "stream",
     "text": [
      "0.9694855681322363\n"
     ]
    }
   ],
   "source": [
    "#using Welch's t-test\n",
    "t1, p1 = stats.ttest_ind(onlyChildData,notOnlyChildData,equal_var=False, alternative = \"greater\")\n",
    "print(p1)"
   ]
  },
  {
   "cell_type": "markdown",
   "id": "874d5ce1",
   "metadata": {},
   "source": [
    "# Conclusion\n",
    "Since, by using Mann-Whyney U test and Welch's t-test, the p-values are above 0.05, we can not reject the null hypothesis that people that are only child rated \"The Lion King\" less or equal than the people that have sibling."
   ]
  },
  {
   "cell_type": "markdown",
   "id": "e5da2a96",
   "metadata": {},
   "source": [
    "# Question 6\n",
    "Do people who like to watch movies socially enjoy ‘The Wolf of Wall Street (2013)’ more than\n",
    "those who prefer to watch them alone?"
   ]
  },
  {
   "cell_type": "code",
   "execution_count": 220,
   "id": "731e447b",
   "metadata": {},
   "outputs": [
    {
     "name": "stdout",
     "output_type": "stream",
     "text": [
      "Watch Alone Mean Rating:  3.143765903307888 3.5\n",
      "What Socially Mean Rating:  3.033333333333333 3.0\n"
     ]
    }
   ],
   "source": [
    "wolf = whichMovie(\"Wolf of Wall Street\")\n",
    "data = np.genfromtxt(\"movieReplicationSet.csv\",usecols=[wolf,476],skip_header=1,\n",
    "                     delimiter=\",\")\n",
    "data = data[~np.isnan(data).any(axis=1)]\n",
    "alone = []\n",
    "notAlone = []\n",
    "for i in range(len(data)):\n",
    "    if data[i,1] == 1:\n",
    "        alone.append(i)\n",
    "    elif data[i,1] == 0:\n",
    "        notAlone.append(i)\n",
    "aloneData = data[alone,0]\n",
    "notAloneData = data[notAlone,0]\n",
    "print(\"Watch Alone Mean Rating: \", np.mean(aloneData), np.median(aloneData))\n",
    "print(\"What Socially Mean Rating: \", np.mean(notAloneData), np.median(notAloneData))"
   ]
  },
  {
   "cell_type": "code",
   "execution_count": 221,
   "id": "2e83cc50",
   "metadata": {},
   "outputs": [
    {
     "data": {
      "image/png": "[encoded data removed]",
      "text/plain": [
       "<Figure size 432x288 with 2 Axes>"
      ]
     },
     "metadata": {
      "needs_background": "light"
     },
     "output_type": "display_data"
    }
   ],
   "source": [
    "plt.subplot(1,2,1)\n",
    "plt.hist(aloneData, len(set(aloneData)))\n",
    "plt.xlabel(\"Rating\")\n",
    "plt.ylabel(\"Count\")\n",
    "plt.title(\"Watching Alone\")\n",
    "\n",
    "plt.subplot(1,2,2)\n",
    "plt.hist(notAloneData, len(set(notAloneData)))\n",
    "plt.xlabel(\"Rating\")\n",
    "plt.ylabel(\"Count\")\n",
    "plt.title(\"Watching Socially\")\n",
    "\n",
    "plt.tight_layout()\n",
    "plt.show()"
   ]
  },
  {
   "cell_type": "code",
   "execution_count": 222,
   "id": "fe3ad389",
   "metadata": {},
   "outputs": [
    {
     "name": "stdout",
     "output_type": "stream",
     "text": [
      "0.9436657996253056\n"
     ]
    }
   ],
   "source": [
    "#using Mann-Whitney U\n",
    "u,p = stats.mannwhitneyu(notAloneData, aloneData,alternative = \"greater\")\n",
    "print(p)"
   ]
  },
  {
   "cell_type": "code",
   "execution_count": 223,
   "id": "12562fcf",
   "metadata": {},
   "outputs": [
    {
     "name": "stdout",
     "output_type": "stream",
     "text": [
      "0.9393044802498963\n"
     ]
    }
   ],
   "source": [
    "#using Welch's t-test\n",
    "t1, p1 = stats.ttest_ind(notAloneData, aloneData,equal_var=False, alternative = \"greater\")\n",
    "print(p1)"
   ]
  },
  {
   "cell_type": "markdown",
   "id": "acca0cc2",
   "metadata": {},
   "source": [
    "## Conclusion\n",
    "Since, by using Mann-Whyney U test and Welch's t-test, the p-values are above 0.05, we can not reject the null hypothesis that people watching \"The Wolf of Wall Street\" socially rated movie less or equal than the people watching alone."
   ]
  },
  {
   "cell_type": "markdown",
   "id": "e9118494",
   "metadata": {},
   "source": [
    "# Question 7\n",
    "There are ratings on movies from several franchises ([‘Star Wars’, ‘Harry Potter’, ‘The Matrix’,\n",
    "‘Indiana Jones’, ‘Jurassic Park’, ‘Pirates of the Caribbean’, ‘Toy Story’, ‘Batman’]) in this\n",
    "dataset. How many of these are of inconsistent quality, as experienced by viewers?"
   ]
  },
  {
   "cell_type": "code",
   "execution_count": 224,
   "id": "e1f1b280",
   "metadata": {},
   "outputs": [],
   "source": [
    "#Import Data\n",
    "movieSet = ['Star Wars', \"Harry Potter\", \"The Matrix\", \"Indiana Jones\", \"Jurassic Park\", \"Pirates of the Caribbean\",\n",
    "           'Toy Story', \"Batman\"]\n",
    "data = np.genfromtxt(\"movieReplicationSet.csv\",skip_header=1,\n",
    "                     delimiter=\",\")\n",
    "seriesMovie = []\n",
    "for movie in movieSet:\n",
    "    temp =[]\n",
    "    for ii in range(400):\n",
    "        if movie in overallHeader[ii]:\n",
    "            #print(overallHeader[ii])\n",
    "            temp.append(ii)\n",
    "    seriesMovie.append(temp)"
   ]
  },
  {
   "cell_type": "code",
   "execution_count": 225,
   "id": "e5af0d12",
   "metadata": {},
   "outputs": [],
   "source": [
    "#Finding all p_value\n",
    "p_value = []\n",
    "for ii in range(len(movieSet)):\n",
    "    tempData = data[:,seriesMovie[ii]]\n",
    "    tempData = tempData[~np.isnan(tempData).any(axis=1)]\n",
    "    if len(seriesMovie[ii])==6:\n",
    "        tempH, tempP = stats.kruskal(tempData[:,0], tempData[:,1], tempData[:,2], tempData[:,3],\n",
    "                                     tempData[:,4], tempData[:,5])\n",
    "    elif (len(seriesMovie[ii])==3):\n",
    "        tempH, tempP = stats.kruskal(tempData[:,0], tempData[:,1], tempData[:,2])\n",
    "    else:\n",
    "        tempH, tempP = stats.kruskal(tempData[:,0], tempData[:,1], tempData[:,2], tempData[:,3])\n",
    "    p_value.append(tempP)"
   ]
  },
  {
   "cell_type": "code",
   "execution_count": 226,
   "id": "58b46093",
   "metadata": {},
   "outputs": [
    {
     "name": "stdout",
     "output_type": "stream",
     "text": [
      "p-value of Star Wars is: 6.940162236984522e-40\n",
      "p-value of Harry Potter is: 0.11790622831256074\n",
      "p-value of The Matrix is: 1.7537323830838066e-09\n",
      "p-value of Indiana Jones is: 1.020118354785894e-11\n",
      "p-value of Jurassic Park is: 1.8492328391686058e-11\n",
      "p-value of Pirates of the Caribbean is: 0.035792727694248905\n",
      "p-value of Toy Story is: 7.902234665149812e-06\n",
      "p-value of Batman is: 4.1380499020034183e-19\n",
      "Inconsistent Movie: 7\n",
      "['Star Wars', 'The Matrix', 'Indiana Jones', 'Jurassic Park', 'Pirates of the Caribbean', 'Toy Story', 'Batman']\n"
     ]
    }
   ],
   "source": [
    "inconsistentMovie =[]\n",
    "for ii in range(len(movieSet)):\n",
    "    print(\"p-value of\", movieSet[ii], \"is:\", p_value[ii])\n",
    "    if(p_value[ii]<0.05):\n",
    "        inconsistentMovie.append(movieSet[ii])\n",
    "print(\"Inconsistent Movie:\",len(inconsistentMovie))\n",
    "print(inconsistentMovie)"
   ]
  },
  {
   "cell_type": "markdown",
   "id": "64e5b12a",
   "metadata": {},
   "source": [
    "# Conclusion\n",
    "According to the p-value by using kruskal-Wallis test, we can conclude that there are 7 movies, including 'Star Wars', 'The Matrix', 'Indiana Jones', 'Jurassic Park', 'Pirates of the Caribbean', 'Toy Story', 'Batman', do not have consistent quality."
   ]
  },
  {
   "cell_type": "markdown",
   "id": "9b2e8069",
   "metadata": {},
   "source": [
    "# Question 8\n",
    "Build a prediction model of your choice (regression or supervised learning) to predict movie\n",
    "ratings (for all 400 movies) from personality factors only. Make sure to use cross-validation\n",
    "methods to avoid overfitting and characterize the accuracy of your model."
   ]
  },
  {
   "cell_type": "code",
   "execution_count": 236,
   "id": "7f25601e",
   "metadata": {},
   "outputs": [],
   "source": [
    "#%% PreProcessingData\n",
    "movieData = np.genfromtxt(\"movieReplicationSet.csv\",skip_header=1,\n",
    "                     delimiter=\",\")\n",
    "#oldMedian = np.nanmedian(movieData,axis=0)\n",
    "for ii in range(477):\n",
    "    tempMedian = np.nanmedian(movieData[:,ii])\n",
    "    tempNan = np.isnan(movieData[:,ii])\n",
    "    movieData[tempNan,ii] = tempMedian"
   ]
  },
  {
   "cell_type": "code",
   "execution_count": 237,
   "id": "34348de0",
   "metadata": {},
   "outputs": [
    {
     "name": "stdout",
     "output_type": "stream",
     "text": [
      "Mean of RMSE: 0.3165094470956381\n",
      "Median of RMSE: 0.26426768127893213\n",
      "Mean of R Squre 0.08196191562584448\n",
      "Median of R Square 0.080737162198742\n"
     ]
    }
   ],
   "source": [
    "#%% Doing Linear Regression for each Movie\n",
    "predictor = movieData[:,np.arange(420,464)]\n",
    "predicted = movieData[:,np.arange(400)]\n",
    "x_train, x_test, y_train, y_test = train_test_split(predictor,predicted, test_size=0.25,random_state=100)\n",
    "\n",
    "\n",
    "models = []\n",
    "rmse = []\n",
    "r_sq = []\n",
    "\n",
    "for ii in range(400):\n",
    "    tempTrainY = y_train[:,ii]\n",
    "    tempTestY = y_test[:,ii]\n",
    "    \n",
    "    model = LinearRegression().fit(x_train,tempTrainY)\n",
    "    tempR_sq = model.score(x_train,tempTrainY)\n",
    "    pred = model.predict(x_test)\n",
    "    temp_RMSE = mean_squared_error(tempTestY, pred)\n",
    "    \n",
    "    rmse.append(temp_RMSE)\n",
    "    models.append(model)\n",
    "    r_sq.append(tempR_sq)\n",
    "    \n",
    "print(\"Mean of RMSE:\", np.mean(rmse))\n",
    "print(\"Median of RMSE:\", np.median(rmse))\n",
    "print(\"Mean of R Squre\", np.mean(r_sq))\n",
    "print(\"Median of R Square\", np.median(r_sq))"
   ]
  },
  {
   "cell_type": "code",
   "execution_count": 239,
   "id": "a5c9c978",
   "metadata": {},
   "outputs": [
    {
     "name": "stdout",
     "output_type": "stream",
     "text": [
      "The coeaficient of each variable: [ 7.73867000e-03  6.48376757e-03  8.94672775e-03 -1.10743301e-02\n",
      " -8.17117186e-03  5.18743761e-03  8.42721535e-03  5.71538645e-03\n",
      " -7.04668826e-03  1.28221280e-02  3.12515285e-04 -3.20459767e-03\n",
      " -1.05698613e-02 -1.00051564e-02  8.72672112e-03  4.43521989e-04\n",
      "  8.86032856e-03  1.49333944e-02 -3.69599829e-03  6.34640540e-03\n",
      " -8.23951843e-03  1.42256893e-03  1.71066639e-02  1.54202303e-02\n",
      "  8.53798289e-03  8.85820412e-03  9.39403249e-03  2.70157902e-02\n",
      "  1.83658546e-02  8.94584742e-03  2.26322304e-02  9.74866015e-03\n",
      "  2.15247275e-03  5.33342250e-03  8.64556332e-03 -7.98178098e-05\n",
      " -2.11812567e-03  9.99601334e-03  1.49433620e-02  4.63686966e-03\n",
      "  8.38494584e-03  2.16553165e-02  3.10216345e-03 -8.43731684e-03]\n",
      "The intercept of each variable 1.8807023532833076\n"
     ]
    }
   ],
   "source": [
    "#%%#Doing Linear Regression for the data set using mean rating for each person\n",
    "predictor = movieData[:,np.arange(420,464)]\n",
    "predicted = movieData[:,np.arange(400)]\n",
    "predicted = np.mean(predicted, axis=1)\n",
    "x_train, x_test, y_train, y_test = train_test_split(predictor,predicted, test_size=0.25,random_state=100)\n",
    "\n",
    "overallModel = LinearRegression().fit(x_train,y_train)\n",
    "tempR_sq = overallModel.score(x_train,y_train)\n",
    "pred = overallModel.predict(x_test)\n",
    "temp_RMSE = mean_squared_error(y_test, pred)\n",
    "\n",
    "b0, b1 = overallModel.coef_, overallModel.intercept_\n",
    "print(\"The coeaficient of each variable:\", b0)\n",
    "print(\"The intercept of each variable\", b1)"
   ]
  },
  {
   "cell_type": "markdown",
   "id": "3c637c35",
   "metadata": {},
   "source": [
    "## Conclusion\n",
    "By looking at the mean and median of RMSE and R squre, prediction models for each movie works great."
   ]
  },
  {
   "cell_type": "markdown",
   "id": "1dba61ec",
   "metadata": {},
   "source": [
    "# Question 9\n",
    "Build a prediction model of your choice (regression or supervised learning) to predict movie\n",
    "ratings (for all 400 movies) from gender identity, sibship status and social viewing preferences (columns 475-477) only. Make sure to use cross-validation methods to avoid overfitting and characterize the accuracy of your model."
   ]
  },
  {
   "cell_type": "code",
   "execution_count": 73,
   "id": "824d0a10",
   "metadata": {},
   "outputs": [],
   "source": [
    "#Preprocessing Data\n",
    "predictor = movieData[:,np.arange(474,477)]\n",
    "predicted = movieData[:,np.arange(400)]\n",
    "x_train, x_test, y_train, y_test = train_test_split(predictor,predicted, test_size=0.25,random_state=100)\n",
    "numTrees=100\n",
    "models= []\n",
    "MAE = []\n",
    "MSE = []\n",
    "RMSE = []"
   ]
  },
  {
   "cell_type": "code",
   "execution_count": 74,
   "id": "65e74111",
   "metadata": {},
   "outputs": [
    {
     "name": "stdout",
     "output_type": "stream",
     "text": [
      "Mean of RMSE: 0.5220473174267202\n",
      "Median of RMSE: 0.4982776555932354\n",
      "Mean of MAE 0.2573993546509414\n",
      "Median of MAE 0.20888007346956933\n"
     ]
    }
   ],
   "source": [
    "#Doing Random Forest\n",
    "for ii in range(400):\n",
    "    tempTrainY = y_train[:,ii]\n",
    "    tempTestY = y_test[:,ii]\n",
    "    \n",
    "    regressor = RandomForestRegressor(n_estimators=numTrees, random_state=0).fit(x_train,tempTrainY) #bagging numTrees trees\n",
    "    pred = regressor.predict(x_test)\n",
    "\n",
    "    temp_MAE = metrics.mean_absolute_error(tempTestY, pred)\n",
    "    temp_MSE = metrics.mean_squared_error(tempTestY, pred)\n",
    "    temp_RMSE = np.sqrt(metrics.mean_squared_error(tempTestY, pred))\n",
    "    \n",
    "    models.append(regressor)\n",
    "    MAE.append(temp_MAE)\n",
    "    MSE.append(temp_MSE)\n",
    "    RMSE.append(temp_RMSE)\n",
    "\n",
    "\n",
    "\n",
    "print(\"Mean of RMSE:\", np.mean(RMSE))\n",
    "print(\"Median of RMSE:\", np.median(RMSE))\n",
    "print(\"Mean of MAE\", np.mean(MAE))\n",
    "print(\"Median of MAE\", np.median(MAE))"
   ]
  },
  {
   "cell_type": "markdown",
   "id": "e001bb16",
   "metadata": {},
   "source": [
    "## Conclusion\n",
    "Since these three predictor variables are categorical data, it would be inappropriate to using the linear regression here. Thus, I chose to use decision tree to predict the output. Furthermore, to avoid overfitting and generate a larger power, I chose to use the random Forest Regression. By doing the randome forest regression and reviewing the mean and median of RMSE and R squre, the prediction models for each movie works great."
   ]
  },
  {
   "cell_type": "markdown",
   "id": "38adff2b",
   "metadata": {},
   "source": [
    "# Question 10\n",
    "Build a prediction model of your choice (regression or supervised learning) to predict movie ratings (for all 400 movies) from all available factors that are not movie ratings (columns 401- 477). Make sure to use cross-validation methods to avoid overfitting and characterize the accuracy of your model."
   ]
  },
  {
   "cell_type": "code",
   "execution_count": 180,
   "id": "1a552912",
   "metadata": {},
   "outputs": [],
   "source": [
    "#Preprocessing Data\n",
    "predictor = movieData[:,np.arange(400,477)]\n",
    "predicted = movieData[:,np.arange(400)]\n",
    "x_train, x_test, y_train, y_test = train_test_split(predictor,predicted, test_size=0.25,random_state=100)\n",
    "numTrees=100\n",
    "models= []\n",
    "MAE = []\n",
    "MSE = []\n",
    "RMSE = []"
   ]
  },
  {
   "cell_type": "code",
   "execution_count": 181,
   "id": "2ae3bd8e",
   "metadata": {},
   "outputs": [
    {
     "name": "stdout",
     "output_type": "stream",
     "text": [
      "Mean of RMSE: 0.5313514332935182\n",
      "Median of RMSE: 0.510226487716471\n",
      "Mean of MAE 0.2911856837121212\n",
      "Median of MAE 0.24707272727272728\n"
     ]
    }
   ],
   "source": [
    "#Doing Random Forest\n",
    "for ii in range(400):\n",
    "    tempTrainY = y_train[:,ii]\n",
    "    tempTestY = y_test[:,ii]\n",
    "    \n",
    "    regressor = RandomForestRegressor(n_estimators=numTrees, random_state=0).fit(x_train,tempTrainY) #bagging numTrees trees\n",
    "    pred = regressor.predict(x_test)\n",
    "\n",
    "    temp_MAE = metrics.mean_absolute_error(tempTestY, pred)\n",
    "    temp_MSE = metrics.mean_squared_error(tempTestY, pred)\n",
    "    temp_RMSE = np.sqrt(metrics.mean_squared_error(tempTestY, pred))\n",
    "    \n",
    "    models.append(regressor)\n",
    "    MAE.append(temp_MAE)\n",
    "    MSE.append(temp_MSE)\n",
    "    RMSE.append(temp_RMSE)\n",
    "\n",
    "print(\"Mean of RMSE:\", np.mean(RMSE))\n",
    "print(\"Median of RMSE:\", np.median(RMSE))\n",
    "print(\"Mean of MAE\", np.mean(MAE))\n",
    "print(\"Median of MAE\", np.median(MAE))"
   ]
  },
  {
   "cell_type": "markdown",
   "id": "fa76a7c1",
   "metadata": {},
   "source": [
    "## Conclusion\n",
    "Since three predictor variables are categorical data, it would be inappropriate to using the linear regression here. Thus, I chose to use decision tree to predict the output. Furthermore, to avoid overfitting and generate a larger power, I chose to use the random Forest Regression. By doing the randome forest regression and reviewing the mean and median of RMSE and R squre, the prediction models for each movie works great.By looking at the mean and median of RMSE and R squre, prediction models for each movie works great."
   ]
  }
 ],
 "metadata": {
  "kernelspec": {
   "display_name": "Python 3 (ipykernel)",
   "language": "python",
   "name": "python3"
  },
  "language_info": {
   "codemirror_mode": {
    "name": "ipython",
    "version": 3
   },
   "file_extension": ".py",
   "mimetype": "text/x-python",
   "name": "python",
   "nbconvert_exporter": "python",
   "pygments_lexer": "ipython3",
   "version": "3.10.4"
  }
 },
 "nbformat": 4,
 "nbformat_minor": 5
}
